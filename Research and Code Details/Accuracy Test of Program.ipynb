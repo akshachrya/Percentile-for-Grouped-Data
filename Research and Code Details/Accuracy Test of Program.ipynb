{
 "cells": [
  {
   "cell_type": "code",
   "execution_count": 10,
   "metadata": {},
   "outputs": [],
   "source": [
    "import pandas as pd\n",
    "import numpy as np\n",
    "%matplotlib inline\n",
    "import matplotlib.pyplot as plt"
   ]
  },
  {
   "cell_type": "code",
   "execution_count": 11,
   "metadata": {},
   "outputs": [
    {
     "data": {
      "text/html": [
       "<div>\n",
       "<style scoped>\n",
       "    .dataframe tbody tr th:only-of-type {\n",
       "        vertical-align: middle;\n",
       "    }\n",
       "\n",
       "    .dataframe tbody tr th {\n",
       "        vertical-align: top;\n",
       "    }\n",
       "\n",
       "    .dataframe thead th {\n",
       "        text-align: right;\n",
       "    }\n",
       "</style>\n",
       "<table border=\"1\" class=\"dataframe\">\n",
       "  <thead>\n",
       "    <tr style=\"text-align: right;\">\n",
       "      <th></th>\n",
       "      <th>Sample1</th>\n",
       "      <th>Delta1</th>\n",
       "    </tr>\n",
       "  </thead>\n",
       "  <tbody>\n",
       "    <tr>\n",
       "      <th>0</th>\n",
       "      <td>6.72</td>\n",
       "      <td>8.05</td>\n",
       "    </tr>\n",
       "    <tr>\n",
       "      <th>1</th>\n",
       "      <td>5.12</td>\n",
       "      <td>7.12</td>\n",
       "    </tr>\n",
       "    <tr>\n",
       "      <th>2</th>\n",
       "      <td>4.85</td>\n",
       "      <td>25.06</td>\n",
       "    </tr>\n",
       "    <tr>\n",
       "      <th>3</th>\n",
       "      <td>4.45</td>\n",
       "      <td>18.79</td>\n",
       "    </tr>\n",
       "    <tr>\n",
       "      <th>4</th>\n",
       "      <td>12.19</td>\n",
       "      <td>92.69</td>\n",
       "    </tr>\n",
       "    <tr>\n",
       "      <th>...</th>\n",
       "      <td>...</td>\n",
       "      <td>...</td>\n",
       "    </tr>\n",
       "    <tr>\n",
       "      <th>495</th>\n",
       "      <td>5.92</td>\n",
       "      <td>NaN</td>\n",
       "    </tr>\n",
       "    <tr>\n",
       "      <th>496</th>\n",
       "      <td>8.45</td>\n",
       "      <td>NaN</td>\n",
       "    </tr>\n",
       "    <tr>\n",
       "      <th>497</th>\n",
       "      <td>12.79</td>\n",
       "      <td>NaN</td>\n",
       "    </tr>\n",
       "    <tr>\n",
       "      <th>498</th>\n",
       "      <td>7.39</td>\n",
       "      <td>NaN</td>\n",
       "    </tr>\n",
       "    <tr>\n",
       "      <th>499</th>\n",
       "      <td>7.52</td>\n",
       "      <td>NaN</td>\n",
       "    </tr>\n",
       "  </tbody>\n",
       "</table>\n",
       "<p>500 rows × 2 columns</p>\n",
       "</div>"
      ],
      "text/plain": [
       "     Sample1  Delta1\n",
       "0       6.72    8.05\n",
       "1       5.12    7.12\n",
       "2       4.85   25.06\n",
       "3       4.45   18.79\n",
       "4      12.19   92.69\n",
       "..       ...     ...\n",
       "495     5.92     NaN\n",
       "496     8.45     NaN\n",
       "497    12.79     NaN\n",
       "498     7.39     NaN\n",
       "499     7.52     NaN\n",
       "\n",
       "[500 rows x 2 columns]"
      ]
     },
     "execution_count": 11,
     "metadata": {},
     "output_type": "execute_result"
    }
   ],
   "source": [
    "data= pd.read_csv('a1cf7b45-25ee-42a1-81e0-ceddf61de9be.csv')\n",
    "data"
   ]
  },
  {
   "cell_type": "code",
   "execution_count": 55,
   "metadata": {},
   "outputs": [],
   "source": []
  },
  {
   "cell_type": "code",
   "execution_count": 12,
   "metadata": {},
   "outputs": [],
   "source": [
    "#Functions\n",
    "\n",
    "def frequency_group_table(df,start,end,interval):\n",
    "    group=pd.cut(df.to_numpy(),bins=list(range(start,end+1,interval)),right=False).value_counts().to_frame()\n",
    "    group.reset_index(level=0, inplace=True)\n",
    "    group=group.rename(columns={\"index\": \"group\", 0: \"frequency\"})\n",
    "    return group\n",
    "\n",
    "def cum_freq_table(df):\n",
    "    #Cum frequency from frequency\n",
    "    df['cum_freq'] = df['frequency'].cumsum()\n",
    "    #Add left and right boundary\n",
    "    df['left_boundary']=df['group'].apply(lambda x: x.left)\n",
    "    df['right_boundary']=df['group'].apply(lambda x: x.right)\n",
    "    #Discarding the group with zero frequency to make calculation more easier\n",
    "    df=df[df['frequency']!=0]\n",
    "    return df\n",
    "\n",
    "def ith_value_finder(percentile,N):\n",
    "    return (percentile*N)/100\n",
    "\n",
    "def percentile_calculator(cum_freq,ithvalue,interval): \n",
    "    \n",
    "    '''\n",
    "        Pj class = (jn/100)th value of the observation\n",
    "        Pj=L+((jn/100)-cff/f)⋅i\n",
    "        where, \n",
    "                n= no. of observation\n",
    "                Pj= locate the jth percentile group.\n",
    "                L= lower class boundary of the class containing the jth percentile\n",
    "                cff = cumulative frequency of the class immediately preceding to the class containing Pj\n",
    "                f= frequency of that group\n",
    "                i= interval\n",
    "\n",
    "    '''\n",
    "    if len([d for d in cum_freq if d['cum_freq'] <= ithvalue])==0:\n",
    "        cff=0\n",
    "    else:\n",
    "        cff=[d for d in cum_freq if d['cum_freq'] <= ithvalue][-1]['cum_freq']\n",
    "    result=[d for d in cum_freq if d['cum_freq'] >= ithvalue][0]\n",
    "    L=result['left_boundary']\n",
    "    f=result['frequency']\n",
    "    i=interval\n",
    "    return round(L+((ithvalue-cff)/f)*i,2)\n",
    "\n",
    "def percentile_main(cum_freq,interval,percentile):\n",
    "    ithvalue=ith_value_finder(percentile,cum_freq['frequency'].sum())\n",
    "    approx=percentile_calculator(cum_freq.to_dict('records'),ithvalue,interval)\n",
    "    return approx\n",
    "\n",
    "def error_per(actual,approx):\n",
    "    '''\n",
    "        Percentage Error:|Approximate Value − Actual Value|/Actual Value  × 100%\n",
    "\n",
    "    '''\n",
    "    return round(abs(approx-actual)/actual*100,2)\n",
    "    "
   ]
  },
  {
   "cell_type": "code",
   "execution_count": 140,
   "metadata": {},
   "outputs": [],
   "source": []
  },
  {
   "cell_type": "code",
   "execution_count": 13,
   "metadata": {},
   "outputs": [
    {
     "data": {
      "text/plain": [
       "94.42"
      ]
     },
     "execution_count": 13,
     "metadata": {},
     "output_type": "execute_result"
    }
   ],
   "source": [
    "#Config\n",
    "percentile=99\n",
    "interval=5\n",
    "df_tobe_calculated=data['Sample1']\n",
    "df_tobe_added=data['Delta1']\n",
    "\n",
    "#For actual\n",
    "combined_array=np.append(df_tobe_calculated.to_numpy(),df_tobe_added.to_numpy(), axis=0)\n",
    "combined_array = combined_array[~np.isnan(combined_array)]\n",
    "\n",
    "oldfreq=frequency_group_table(df_tobe_calculated,0,100,interval)\n",
    "newfreq=frequency_group_table(df_tobe_added,0,100,interval)\n",
    "oldfreq['frequency']=oldfreq['frequency']+newfreq['frequency']\n",
    "freq=oldfreq\n",
    "\n",
    "#We need combined frequency to start our calculation\n",
    "cum_freq=cum_freq_table(freq)\n",
    "actual=round(np.quantile(combined_array,percentile/100),2)\n",
    "percentile_main(cum_freq,interval,percentile)"
   ]
  },
  {
   "cell_type": "code",
   "execution_count": 5,
   "metadata": {},
   "outputs": [],
   "source": [
    "cum_freq=cum_freq_table(freq)\n",
    "approx_percentile_array=[]\n",
    "actual_percentile_array=[]\n",
    "error_per_array=[]\n",
    "difference_array=[]\n",
    "percentile_array=[]\n",
    "for i in range(0,101):\n",
    "    actual=round(np.quantile(combined_array,i/100),2)\n",
    "    approx=percentile_main(cum_freq,interval,i)\n",
    "    percentile_array.append(i)\n",
    "    approx_percentile_array.append(approx)\n",
    "    actual_percentile_array.append(actual)\n",
    "    error_per_array.append(error_per(actual,approx))\n",
    "    difference_array.append(abs(actual-approx))"
   ]
  },
  {
   "cell_type": "code",
   "execution_count": null,
   "metadata": {},
   "outputs": [],
   "source": []
  },
  {
   "cell_type": "code",
   "execution_count": 6,
   "metadata": {},
   "outputs": [
    {
     "data": {
      "image/png": "[encoded data removed]",
      "text/plain": [
       "<Figure size 432x288 with 1 Axes>"
      ]
     },
     "metadata": {
      "needs_background": "light"
     },
     "output_type": "display_data"
    }
   ],
   "source": [
    "x = percentile_array\n",
    "fig, ax = plt.subplots()\n",
    "ax.plot(x,actual_percentile_array , '-b', label='Actual')\n",
    "ax.plot(x, approx_percentile_array, '--r', label='Approx')\n",
    "plt.xticks(np.arange(0, len(x)+1, 5))\n",
    "plt.xlabel('Percentile')\n",
    "# ax.axis('equal')\n",
    "leg = ax.legend();\n",
    "# plt.savefig('a.png')"
   ]
  },
  {
   "cell_type": "code",
   "execution_count": 7,
   "metadata": {},
   "outputs": [
    {
     "data": {
      "text/plain": [
       "Text(0.5, 0, 'Percentile')"
      ]
     },
     "execution_count": 7,
     "metadata": {},
     "output_type": "execute_result"
    },
    {
     "data": {
      "image/png": "[encoded data removed]",
      "text/plain": [
       "<Figure size 432x288 with 1 Axes>"
      ]
     },
     "metadata": {
      "needs_background": "light"
     },
     "output_type": "display_data"
    }
   ],
   "source": [
    "x = percentile_array\n",
    "fig, ax = plt.subplots()\n",
    "ax.plot(x,error_per_array , '-b', label='Error')\n",
    "ax.plot(x, difference_array, '--r', label='Difference')\n",
    "plt.yticks(np.arange(0, len(x)+1, 5))\n",
    "# ax.axis('equal')\n",
    "leg = ax.legend();\n",
    "plt.xlabel('Percentile')\n",
    "# plt.savefig('b.png')"
   ]
  },
  {
   "cell_type": "code",
   "execution_count": null,
   "metadata": {},
   "outputs": [],
   "source": []
  },
  {
   "cell_type": "code",
   "execution_count": null,
   "metadata": {},
   "outputs": [],
   "source": []
  },
  {
   "cell_type": "code",
   "execution_count": null,
   "metadata": {},
   "outputs": [],
   "source": []
  },
  {
   "cell_type": "code",
   "execution_count": null,
   "metadata": {},
   "outputs": [],
   "source": []
  },
  {
   "cell_type": "code",
   "execution_count": null,
   "metadata": {},
   "outputs": [],
   "source": []
  },
  {
   "cell_type": "code",
   "execution_count": null,
   "metadata": {},
   "outputs": [],
   "source": []
  },
  {
   "cell_type": "code",
   "execution_count": null,
   "metadata": {},
   "outputs": [],
   "source": []
  },
  {
   "cell_type": "code",
   "execution_count": null,
   "metadata": {},
   "outputs": [],
   "source": []
  },
  {
   "cell_type": "code",
   "execution_count": null,
   "metadata": {},
   "outputs": [],
   "source": []
  },
  {
   "cell_type": "code",
   "execution_count": null,
   "metadata": {},
   "outputs": [],
   "source": []
  },
  {
   "cell_type": "code",
   "execution_count": null,
   "metadata": {},
   "outputs": [],
   "source": []
  },
  {
   "cell_type": "code",
   "execution_count": null,
   "metadata": {},
   "outputs": [],
   "source": []
  }
 ],
 "metadata": {
  "kernelspec": {
   "display_name": "Python 3 (ipykernel)",
   "language": "python",
   "name": "python3"
  },
  "language_info": {
   "codemirror_mode": {
    "name": "ipython",
    "version": 3
   },
   "file_extension": ".py",
   "mimetype": "text/x-python",
   "name": "python",
   "nbconvert_exporter": "python",
   "pygments_lexer": "ipython3",
   "version": "3.10.0"
  }
 },
 "nbformat": 4,
 "nbformat_minor": 4
}
